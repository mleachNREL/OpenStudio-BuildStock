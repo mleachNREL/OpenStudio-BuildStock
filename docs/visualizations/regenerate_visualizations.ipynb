{
 "cells": [
  {
   "cell_type": "markdown",
   "metadata": {},
   "source": [
    "# Regenerate Project Visualizations\n",
    "\n",
    "This notebook regenerates visualizations for all the ResStock projects.  Specifically, the notebook runs a set of other scripts that regenerates the following:\n",
    "\n",
    "1. The dependency wheel in `<project_name>/util/dependency_wheel` which show the dependencies and dependents of the housing characteristics for this project.\n",
    "2. The dependency graphs in `<project_name>/util/dependency_graphs` which shows the graph of characteristics and their dependencies to help identify high and lower levels of housing characteristics."
   ]
  },
  {
   "cell_type": "markdown",
   "metadata": {},
   "source": [
    "## 1. Regenerate the Dependency Wheels"
   ]
  },
  {
   "cell_type": "code",
   "execution_count": 1,
   "metadata": {},
   "outputs": [
    {
     "name": "stdout",
     "output_type": "stream",
     "text": [
      "/Users/afontani/packages/OpenStudio-BuildStock/docs/visualizations/dependencyWheels\n",
      "3.7.4 (default, Aug 13 2019, 15:17:50) \n",
      "[Clang 4.0.1 (tags/RELEASE_401/final)]\n",
      "Creating a dependency wheel for project:\n",
      "----------------------------------------\n",
      "../../../project_national\n",
      "../../../project_testing\n",
      "/Users/afontani/packages/OpenStudio-BuildStock/docs/visualizations\n"
     ]
    }
   ],
   "source": [
    "%cd dependencyWheels\n",
    "%run ./createDependencyWheelData.ipynb\n",
    "%cd .."
   ]
  },
  {
   "cell_type": "markdown",
   "metadata": {},
   "source": [
    "## 2. Regenerate the Dependency Graphs"
   ]
  },
  {
   "cell_type": "code",
   "execution_count": 2,
   "metadata": {},
   "outputs": [
    {
     "name": "stdout",
     "output_type": "stream",
     "text": [
      "/Users/afontani/packages/OpenStudio-BuildStock/docs/visualizations/dependencyGraphs\n",
      "3.7.4 (default, Aug 13 2019, 15:17:50) \n",
      "[Clang 4.0.1 (tags/RELEASE_401/final)]\n",
      "Creating a dependency graphs for project:\n",
      "----------------------------------------\n",
      "../../../project_national\n",
      "Name: \n",
      "Type: DiGraph\n",
      "Number of nodes: 104\n",
      "Number of edges: 167\n",
      "Average in degree:   1.6058\n",
      "Average out degree:   1.6058\n",
      "Longest path length:\t 10\n",
      "Maximum levels: \t 9\n",
      "../../../project_testing\n",
      "Name: \n",
      "Type: DiGraph\n",
      "Number of nodes: 92\n",
      "Number of edges: 48\n",
      "Average in degree:   0.5217\n",
      "Average out degree:   0.5217\n",
      "Longest path length:\t 4\n",
      "Maximum levels: \t 3\n",
      "/Users/afontani/packages/OpenStudio-BuildStock/docs/visualizations\n"
     ]
    }
   ],
   "source": [
    "%cd dependencyGraphs\n",
    "%run ./Dependency_Graphs.ipynb\n",
    "%cd .."
   ]
  },
  {
   "cell_type": "code",
   "execution_count": null,
   "metadata": {},
   "outputs": [],
   "source": []
  },
  {
   "cell_type": "code",
   "execution_count": null,
   "metadata": {},
   "outputs": [],
   "source": []
  }
 ],
 "metadata": {
  "kernelspec": {
   "display_name": "Python 3",
   "language": "python",
   "name": "python3"
  },
  "language_info": {
   "codemirror_mode": {
    "name": "ipython",
    "version": 3
   },
   "file_extension": ".py",
   "mimetype": "text/x-python",
   "name": "python",
   "nbconvert_exporter": "python",
   "pygments_lexer": "ipython3",
   "version": "3.7.4"
  }
 },
 "nbformat": 4,
 "nbformat_minor": 2
}
